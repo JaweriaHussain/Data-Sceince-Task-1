{
 "cells": [
  {
   "cell_type": "code",
   "execution_count": 2,
   "metadata": {},
   "outputs": [],
   "source": [
    "import pandas as pd\n"
   ]
  },
  {
   "cell_type": "code",
   "execution_count": null,
   "metadata": {},
   "outputs": [],
   "source": [
    "db = pd.read_csv('diabetes.csv')\n",
    "age = db['Age']\n",
    "glucose_level = db['Glucose']\n",
    "Obesity = db['BMI']\n",
    "for i in range (len(db)):\n",
    "    if age[i]>18 and age[i]<=32:\n",
    "        if glucose_level[i] > 99:\n",
    "            print(age[i])\n",
    "            print(glucose_level[i])"
   ]
  },
  {
   "cell_type": "code",
   "execution_count": null,
   "metadata": {},
   "outputs": [],
   "source": [
    "for j in range(len(db)):\n",
    "    if glucose_level[j]>99:\n",
    "        if Obesity[j] > 30:\n",
    "            print(glucose_level[j])\n",
    "            print(Obesity[j])"
   ]
  }
 ],
 "metadata": {
  "kernelspec": {
   "display_name": "Python 3.10.7 64-bit (microsoft store)",
   "language": "python",
   "name": "python3"
  },
  "language_info": {
   "codemirror_mode": {
    "name": "ipython",
    "version": 3
   },
   "file_extension": ".py",
   "mimetype": "text/x-python",
   "name": "python",
   "nbconvert_exporter": "python",
   "pygments_lexer": "ipython3",
   "version": "3.10.8"
  },
  "orig_nbformat": 4,
  "vscode": {
   "interpreter": {
    "hash": "66eba28a75a64fbe1a9b9c30d27f7c856726c51cbbef86297708eae4ce175db0"
   }
  }
 },
 "nbformat": 4,
 "nbformat_minor": 2
}
