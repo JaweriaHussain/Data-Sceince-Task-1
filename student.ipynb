{
 "cells": [
  {
   "cell_type": "code",
   "execution_count": 1,
   "metadata": {},
   "outputs": [],
   "source": [
    "import pandas as pd"
   ]
  },
  {
   "cell_type": "code",
   "execution_count": 12,
   "metadata": {},
   "outputs": [
    {
     "name": "stdout",
     "output_type": "stream",
     "text": [
      "these students have CGPA higher than 3.5  Jaweria\n",
      "these students have CGPA higher than 3.5  Areej\n",
      "these students have CGPA higher than 3.5  Rehana\n",
      "these students have CGPA higher than 3.5  Samina\n"
     ]
    }
   ],
   "source": [
    "student_file = pd.read_csv(\"student.csv\")\n",
    "name = student_file['Name']\n",
    "cgpa = student_file['CGPA']\n",
    "for i in range(len(student_file)):\n",
    "    if cgpa[i] >3.5:\n",
    "        print('these students have CGPA higher than 3.5 ',name[i])"
   ]
  },
  {
   "cell_type": "code",
   "execution_count": 14,
   "metadata": {},
   "outputs": [
    {
     "name": "stdout",
     "output_type": "stream",
     "text": [
      "Jaweria have Good progess\n",
      "Areej have Good progess\n",
      "Rehana have Good progess\n",
      "Samina have Good progess\n",
      "Robert have Good progess\n"
     ]
    }
   ],
   "source": [
    "progess = student_file['Progress']\n",
    "for i in range(len(student_file)):\n",
    "    if progess[i] == 'Good':\n",
    "        print(f\"{name[i]} have {progess[i]} progess\")\n"
   ]
  }
 ],
 "metadata": {
  "kernelspec": {
   "display_name": "Python 3.10.8 64-bit (microsoft store)",
   "language": "python",
   "name": "python3"
  },
  "language_info": {
   "codemirror_mode": {
    "name": "ipython",
    "version": 3
   },
   "file_extension": ".py",
   "mimetype": "text/x-python",
   "name": "python",
   "nbconvert_exporter": "python",
   "pygments_lexer": "ipython3",
   "version": "3.10.8"
  },
  "orig_nbformat": 4,
  "vscode": {
   "interpreter": {
    "hash": "66eba28a75a64fbe1a9b9c30d27f7c856726c51cbbef86297708eae4ce175db0"
   }
  }
 },
 "nbformat": 4,
 "nbformat_minor": 2
}
